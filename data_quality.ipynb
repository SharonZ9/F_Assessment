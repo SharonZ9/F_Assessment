{
 "cells": [
  {
   "cell_type": "code",
   "execution_count": null,
   "metadata": {},
   "outputs": [],
   "source": [
    "import json\n",
    "import pandas as pd"
   ]
  },
  {
   "cell_type": "code",
   "execution_count": null,
   "metadata": {},
   "outputs": [],
   "source": [
    "#read json  files\n",
    "receipts_df = pd.read_json('receipts.json.gz', compression='gzip', lines =True) # read line by line\n",
    "users_df = pd.read_json('users.json.gz', compression='gzip', lines =True)\n",
    "brands_df = pd.read_json('brands.json.gz', compression='gzip', lines =True)\n"
   ]
  },
  {
   "cell_type": "code",
   "execution_count": null,
   "metadata": {},
   "outputs": [],
   "source": [
    "users_df.head()"
   ]
  },
  {
   "cell_type": "code",
   "execution_count": null,
   "metadata": {},
   "outputs": [],
   "source": [
    "#filling missing values\n",
    "users_df['lastLogin'] = users_df['lastLogin'].fillna({i: {} for i in users_df.index})"
   ]
  },
  {
   "cell_type": "code",
   "execution_count": null,
   "metadata": {},
   "outputs": [],
   "source": [
    "# Two columns converting into DateTime\n",
    "users_df['_id'] = pd.json_normalize(users_df['_id'])\n",
    "users_df['createdDate'] = pd.to_datetime(pd.json_normalize(users_df['createdDate'])['$date'],unit = 'ms').astype('datetime64[s]')\n",
    "users_df['lastLogin'] = pd.to_datetime(pd.json_normalize(users_df['lastLogin'])['$date'],unit = 'ms').astype('datetime64[s]')"
   ]
  },
  {
   "cell_type": "code",
   "execution_count": null,
   "metadata": {},
   "outputs": [],
   "source": [
    "brands_df.head()"
   ]
  },
  {
   "cell_type": "code",
   "execution_count": null,
   "metadata": {},
   "outputs": [],
   "source": [
    "#  convert dict column cpg: keys to column headers and values to rows\n",
    "cpg_df = pd.json_normalize(brands_df['cpg']).add_prefix('cpg.')\n",
    "#joining the two dfs\n",
    "norm_brands_df = brands_df.join(cpg_df, how = 'outer')\n",
    "#extracting id from dict\n",
    "norm_brands_df['_id'] = pd.json_normalize(norm_brands_df['_id'])\n",
    "#dropping cpg column \n",
    "norm_brands_df.drop(columns = 'cpg', axis = 1, inplace = True)\n",
    "#Final dataset \n",
    "norm_brands_df.head()"
   ]
  },
  {
   "cell_type": "code",
   "execution_count": null,
   "metadata": {},
   "outputs": [],
   "source": [
    "receipts_df.head()"
   ]
  },
  {
   "cell_type": "code",
   "execution_count": null,
   "metadata": {},
   "outputs": [],
   "source": [
    "receipts_df.info()"
   ]
  },
  {
   "cell_type": "code",
   "execution_count": null,
   "metadata": {},
   "outputs": [],
   "source": [
    "receipts_df = receipts_df.explode('rewardsReceiptItemList')\n",
    "receipts_df.reset_index(inplace=True)"
   ]
  },
  {
   "cell_type": "code",
   "execution_count": null,
   "metadata": {},
   "outputs": [],
   "source": [
    "#df each element into a row excluding 'ReceiptItemList' dict\n",
    "receipts_df = receipts_df.explode('rewardsReceiptItemList')\n",
    "receipts_df.reset_index(inplace=True)"
   ]
  },
  {
   "cell_type": "code",
   "execution_count": null,
   "metadata": {},
   "outputs": [],
   "source": [
    "#  convert dict column rewardsReceiptItemList :keys to column headers and values to rows\n",
    "receiptItemList_df = pd.json_normalize(receipts_df['rewardsReceiptItemList'], record_prefix = 'rewardsReceiptItemList_', errors = 'ignore').add_prefix('rewardsReceiptItemList_')\n"
   ]
  },
  {
   "cell_type": "code",
   "execution_count": null,
   "metadata": {},
   "outputs": [],
   "source": [
    "#joining the two dfs\n",
    "norm_receipts_df = receipts_df.join(receiptItemList_df, how = 'outer')\n",
    "#dropping the 'rewardsReceiptItemList' coulmn \n",
    "norm_receipts_df.drop(columns = ['rewardsReceiptItemList'],axis = 1, inplace = True)\n",
    "#final dataset\n",
    "norm_receipts_df.head()"
   ]
  },
  {
   "cell_type": "code",
   "execution_count": null,
   "metadata": {},
   "outputs": [],
   "source": [
    "#filling missing values\n",
    "norm_receipts_df['finishedDate'] = norm_receipts_df['finishedDate'].fillna({i: {} for i in receipts_df.index})\n",
    "norm_receipts_df['pointsAwardedDate'] = norm_receipts_df['pointsAwardedDate'].fillna({i: {} for i in receipts_df.index})\n",
    "norm_receipts_df['purchaseDate'] = norm_receipts_df['purchaseDate'].fillna({i: {} for i in receipts_df.index})\n"
   ]
  },
  {
   "cell_type": "code",
   "execution_count": null,
   "metadata": {},
   "outputs": [],
   "source": [
    "#extract data from dict and convert into DateTime\n",
    "norm_receipts_df['createDate'] = pd.to_datetime(pd.json_normalize(norm_receipts_df['createDate'])['$date'],unit = 'ms').astype('datetime64[s]')\n",
    "norm_receipts_df['dateScanned'] = pd.to_datetime(pd.json_normalize(norm_receipts_df['dateScanned'])['$date'],unit = 'ms').astype('datetime64[s]')\n",
    "norm_receipts_df['finishedDate'] = pd.to_datetime(pd.json_normalize(norm_receipts_df['finishedDate'])['$date'],errors='coerce',unit = 'ms').astype('datetime64[s]')\n",
    "norm_receipts_df['modifyDate'] = pd.to_datetime(pd.json_normalize(norm_receipts_df['modifyDate'])['$date'],unit = 'ms').astype('datetime64[s]')\n",
    "norm_receipts_df['pointsAwardedDate'] = pd.to_datetime(pd.json_normalize(norm_receipts_df['pointsAwardedDate'])['$date'],unit = 'ms').astype('datetime64[s]')\n",
    "norm_receipts_df['purchaseDate'] = pd.to_datetime(pd.json_normalize(norm_receipts_df['purchaseDate'])['$date'],unit = 'ms').astype('datetime64[s]')\n"
   ]
  }
 ],
 "metadata": {
  "language_info": {
   "name": "python"
  }
 },
 "nbformat": 4,
 "nbformat_minor": 2
}
